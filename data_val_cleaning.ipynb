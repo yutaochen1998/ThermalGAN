{
 "cells": [
  {
   "cell_type": "code",
   "execution_count": null,
   "id": "aef722d2-87dd-4fa5-b1a3-0d990a5f09ed",
   "metadata": {},
   "outputs": [],
   "source": [
    "import os\n",
    "import cv2\n",
    "import shutil\n",
    "from tqdm.notebook import tqdm"
   ]
  },
  {
   "cell_type": "code",
   "execution_count": null,
   "id": "6301fb0f-e93e-4012-b383-eaf6e523e38e",
   "metadata": {},
   "outputs": [],
   "source": [
    "data_path = \"./data_val_2\"\n",
    "visible_path = os.path.join(data_path, \"visible\")\n",
    "thermal_path = os.path.join(data_path, \"thermal\")\n",
    "visible_list = [os.path.join(visible_path, filename) for filename in os.listdir(visible_path)]\n",
    "thermal_list = [os.path.join(thermal_path, filename) for filename in os.listdir(thermal_path)]\n",
    "print(\"Number of image pairs:\", len(visible_list))"
   ]
  },
  {
   "cell_type": "code",
   "execution_count": null,
   "id": "8f1f484b-4c71-47ed-9eef-9b753477d3bf",
   "metadata": {},
   "outputs": [],
   "source": [
    "TARGET_SIZE = 256\n",
    "processed_data_path = \"./processed_data/validation_2\"\n",
    "processed_visible_path = os.path.join(processed_data_path, \"visible\")\n",
    "processed_thermal_path = os.path.join(processed_data_path, \"thermal\")\n",
    "if os.path.isdir(processed_data_path):\n",
    "    shutil.rmtree(processed_data_path)\n",
    "os.makedirs(processed_visible_path)\n",
    "os.makedirs(processed_thermal_path)\n",
    "\n",
    "i = 0\n",
    "for visible_file, thermal_file in tqdm(zip(visible_list, thermal_list), total=len(visible_list)):\n",
    "    visible = cv2.imread(visible_file)\n",
    "    thermal = cv2.imread(thermal_file, cv2.IMREAD_GRAYSCALE)\n",
    "    visible = cv2.resize(visible, (TARGET_SIZE, TARGET_SIZE), interpolation=cv2.INTER_AREA)\n",
    "    thermal = cv2.resize(thermal, (TARGET_SIZE, TARGET_SIZE), interpolation=cv2.INTER_AREA)\n",
    "    _ = cv2.imwrite(os.path.join(processed_visible_path, str(i).zfill(4)+'.jpg'), visible)\n",
    "    _ = cv2.imwrite(os.path.join(processed_thermal_path, str(i).zfill(4)+'.jpg'), thermal)\n",
    "    i += 1"
   ]
  },
  {
   "cell_type": "code",
   "execution_count": null,
   "id": "c421d005-8cf9-4223-9b18-41f5bc8da514",
   "metadata": {},
   "outputs": [],
   "source": []
  }
 ],
 "metadata": {
  "kernelspec": {
   "display_name": "Python 3 (ipykernel)",
   "language": "python",
   "name": "python3"
  },
  "language_info": {
   "codemirror_mode": {
    "name": "ipython",
    "version": 3
   },
   "file_extension": ".py",
   "mimetype": "text/x-python",
   "name": "python",
   "nbconvert_exporter": "python",
   "pygments_lexer": "ipython3",
   "version": "3.9.6"
  }
 },
 "nbformat": 4,
 "nbformat_minor": 5
}
